{
 "cells": [
  {
   "cell_type": "code",
   "execution_count": 3,
   "id": "fb7f5f79-1a5b-475b-891d-88e2e3a8a3cc",
   "metadata": {},
   "outputs": [
    {
     "name": "stdout",
     "output_type": "stream",
     "text": [
      "Is 9 a prime number? False\n"
     ]
    }
   ],
   "source": [
    "#1.Write a Python function check the number is prime or not?\n",
    "\n",
    "def is_prime(number):\n",
    "    \"\"\"Check if a number is a prime number.\"\"\"\n",
    "    if number <= 1:\n",
    "        return False\n",
    "    if number <= 3:\n",
    "        return True\n",
    "    if number % 2 == 0 or number % 3 == 0:\n",
    "        return False\n",
    "    for i in range(5, int(number**0.5) + 1, 6):\n",
    "        if number % i == 0 or number % (i + 2) == 0:\n",
    "            return False\n",
    "    return True\n",
    "\n",
    "# Example usage\n",
    "num = 9  \n",
    "result = is_prime(num)\n",
    "print(f\"Is {num} a prime number? {result}\")\n",
    "\n"
   ]
  },
  {
   "cell_type": "code",
   "execution_count": 5,
   "id": "066680fa-7b70-4381-8203-251986208819",
   "metadata": {},
   "outputs": [
    {
     "name": "stdout",
     "output_type": "stream",
     "text": [
      "Is 'A dog, a rat, a cat, Panama' a palindrome? False\n"
     ]
    }
   ],
   "source": [
    "#2.Write a Python function string is palindrome or not?\n",
    "\n",
    "def is_palindrome(s):\n",
    "    \"\"\"Check if a string is a palindrome.\"\"\"\n",
    "    # Remove any non-alphanumeric characters and convert to lowercase\n",
    "    cleaned_string = ''.join(char.lower() for char in s if char.isalnum())\n",
    "    # Check if the cleaned string is equal to its reverse\n",
    "    if cleaned_string == cleaned_string[::-1]:\n",
    "        return True\n",
    "    else:\n",
    "        return False\n",
    "\n",
    "\n",
    "test_string = \"A dog, a rat, a cat, Panama\"\n",
    "result = is_palindrome(test_string)\n",
    "print(f\"Is '{test_string}' a palindrome? {result}\")\n"
   ]
  },
  {
   "cell_type": "code",
   "execution_count": 9,
   "id": "c7c3cbe0-111b-4b84-aaa1-a78fc4f61d80",
   "metadata": {},
   "outputs": [
    {
     "name": "stdout",
     "output_type": "stream",
     "text": [
      "      1 \n",
      "     1 1 \n",
      "    1 2 1 \n",
      "   1 3 3 1 \n",
      "  1 4 6 4 1 \n",
      "1 5 10 10 5 1 \n",
      "1 6 15 20 15 6 1 \n"
     ]
    }
   ],
   "source": [
    "# Write a Python function Print 7 Pascal's triangle.\n",
    "\n",
    "\n",
    "def print_pascals_triangle(n):\n",
    "    \"\"\"Print the first n rows of Pascal's triangle.\"\"\"\n",
    "    triangle = []\n",
    "\n",
    "    for i in range(n):\n",
    "        row = [1] * (i + 1)  # Initialize the row with 1s\n",
    "        for j in range(1, i):\n",
    "            row[j] = triangle[i-1][j-1] + triangle[i-1][j]\n",
    "        triangle.append(row)\n",
    "\n",
    "    # Print the triangle\n",
    "    max_width = n * 2  \n",
    "    for row in triangle:\n",
    "        row_str = \"\"\n",
    "        for num in row:\n",
    "            row_str += str(num) + \" \"\n",
    "        # Center the row string by calculating spaces \n",
    "        spaces = ' ' * ((max_width - len(row_str)) // 2)\n",
    "        print(spaces + row_str)\n",
    "\n",
    "\n",
    "print_pascals_triangle(7)\n",
    "\n",
    "\n",
    "\n"
   ]
  },
  {
   "cell_type": "code",
   "execution_count": 11,
   "id": "db1dc388-4b84-4857-90b1-271f0fc4a864",
   "metadata": {},
   "outputs": [
    {
     "name": "stdout",
     "output_type": "stream",
     "text": [
      "The harmonic mean of [1, 2, 3, 4, 5] is 2.18978102189781\n"
     ]
    }
   ],
   "source": [
    "#5.Write a Python function to calculate the harmonic mean\n",
    "def harmonic_mean(numbers):\n",
    "    \"\"\"Calculate the harmonic mean of a list of numbers.\"\"\"\n",
    "    n = len(numbers)\n",
    "    if n == 0:\n",
    "        return 0  # Return 0 \n",
    "    \n",
    "    reciprocal_sum = sum(1 / num for num in numbers if num != 0)\n",
    "    \n",
    "    if reciprocal_sum == 0:\n",
    "        return float('inf')  # Return infinity if all numbers are zero to avoid division by zero\n",
    "    \n",
    "    return n / reciprocal_sum\n",
    "\n",
    "\n",
    "numbers = [1, 2, 3, 4, 5]\n",
    "hm = harmonic_mean(numbers)\n",
    "print(f\"The harmonic mean of {numbers} is {hm}\")\n",
    "\n"
   ]
  },
  {
   "cell_type": "code",
   "execution_count": 12,
   "id": "4985a4e4-5cf2-4213-83a8-5e9644be5dd3",
   "metadata": {},
   "outputs": [
    {
     "name": "stdout",
     "output_type": "stream",
     "text": [
      "8\n",
      "25\n"
     ]
    }
   ],
   "source": [
    "#1. Required arguments: (the function calculate returns the sum of two arguments a and b )\n",
    "def calculate(a, b):\n",
    "    \"\"\"Calculate the sum of two arguments a and b.\"\"\"\n",
    "    return a + b\n",
    "\n",
    "\n",
    "print(calculate(3, 5))  # Output: 8\n",
    "print(calculate(10, 15))  # Output: 25"
   ]
  },
  {
   "cell_type": "code",
   "execution_count": 14,
   "id": "c6991601-f1c8-4b8a-b52a-9a4e180862f6",
   "metadata": {},
   "outputs": [
    {
     "name": "stdout",
     "output_type": "stream",
     "text": [
      "The simple interest for principal $1000, time 2 years, and rate 5% is $100.0\n"
     ]
    }
   ],
   "source": [
    "#2.Keyword arguments:(The function simple_interest(p, t, r) is called with the keyword arguments)\n",
    "#P = (100 × S.I.)/(R × T)\n",
    "\n",
    "\n",
    "def simple_interest(p=None, t=None, r=None):\n",
    "    \"\"\"Calculate the simple interest given principal (p), time (t), and rate (r).\"\"\"\n",
    "    if p is None or t is None or r is None:\n",
    "        raise ValueError(\"All arguments (p, t, r) must be provided\")\n",
    "    \n",
    "    return (p * t * r) / 100\n",
    "\n",
    "\n",
    "p = 1000  # Principal amount\n",
    "t = 2     # Time in years\n",
    "r = 5     # Rate of interest\n",
    "\n",
    "si = simple_interest(p=p, t=t, r=r)\n",
    "print(f\"The simple interest for principal ${p}, time {t} years, and rate {r}% is ${si}\")\n"
   ]
  },
  {
   "cell_type": "code",
   "execution_count": 16,
   "id": "d14c9759-7361-4247-9d90-f47d7acdc3d4",
   "metadata": {},
   "outputs": [
    {
     "name": "stdout",
     "output_type": "stream",
     "text": [
      "2700\n",
      "240\n",
      "120\n"
     ]
    }
   ],
   "source": [
    "#3. Default arguments: (the function calculate returns the multiplication of 4 arguments \n",
    "#a, b ,c and d. Variable c and d will have default arguments of 45 and 10)\n",
    "\n",
    "\n",
    "\n",
    "def calculate(a, b, c=45, d=10):\n",
    "    \"\"\"Calculate the multiplication of four arguments a, b, c, and d with c and d having default values.\"\"\"\n",
    "    return a * b * c * d\n",
    "\n",
    "\n",
    "print(calculate(2, 3))           # Output: 2700 (2 * 3 * 45 * 10)\n",
    "print(calculate(2, 3, 4))        # Output: 240 (2 * 3 * 4 * 10)\n",
    "print(calculate(2, 3, 4, 5))     # Output: 120 (2 * 3 * 4 * 5)\n",
    "\n",
    "\n",
    "\n",
    "\n"
   ]
  },
  {
   "cell_type": "code",
   "execution_count": null,
   "id": "b05aa079-e837-43b1-9cfb-e2cc3711caa8",
   "metadata": {},
   "outputs": [],
   "source": []
  }
 ],
 "metadata": {
  "kernelspec": {
   "display_name": "Python 3 (ipykernel)",
   "language": "python",
   "name": "python3"
  },
  "language_info": {
   "codemirror_mode": {
    "name": "ipython",
    "version": 3
   },
   "file_extension": ".py",
   "mimetype": "text/x-python",
   "name": "python",
   "nbconvert_exporter": "python",
   "pygments_lexer": "ipython3",
   "version": "3.12.3"
  }
 },
 "nbformat": 4,
 "nbformat_minor": 5
}
